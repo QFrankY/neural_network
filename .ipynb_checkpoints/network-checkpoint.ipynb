{
 "cells": [
  {
   "cell_type": "code",
   "execution_count": 1,
   "metadata": {
    "collapsed": false
   },
   "outputs": [
    {
     "name": "stdout",
     "output_type": "stream",
     "text": [
      "[matrix([[  7.50114481e-04],\n",
      "        [  5.42764019e-05],\n",
      "        [  2.58795962e-05]]), matrix([[ 0.00859851],\n",
      "        [ 0.17488266],\n",
      "        [ 0.33267537],\n",
      "        [ 0.48843235],\n",
      "        [ 0.34833924]])]\n",
      "[matrix([[  7.50114481e-04,   5.42764019e-05,   2.58795962e-05],\n",
      "        [  1.50022896e-03,   1.08552804e-04,   5.17591925e-05],\n",
      "        [  2.25034344e-03,   1.62829206e-04,   7.76387887e-05],\n",
      "        [  3.00045792e-03,   2.17105608e-04,   1.03518385e-04],\n",
      "        [  3.75057240e-03,   2.71382009e-04,   1.29397981e-04]]), matrix([[ 0.0085863 ,  0.17463427,  0.33220287,  0.48773862,  0.34784449],\n",
      "        [ 0.00859796,  0.17487151,  0.33265416,  0.4884012 ,  0.34831702],\n",
      "        [ 0.00859827,  0.17487765,  0.33266583,  0.48841834,  0.34832924]])]\n"
     ]
    }
   ],
   "source": [
    "import numpy as np\n",
    "\n",
    "from network import network\n",
    "\n",
    "net = network([5,3,5])\n",
    "\n",
    "x = np.matrix([[1,2,3,4,5]]).transpose()\n",
    "y = np.matrix([[1,2,3,4,5]]).transpose()\n",
    "\n",
    "a, b = net.backprop(x, y)\n",
    "\n",
    "print(a)\n",
    "print(b)"
   ]
  },
  {
   "cell_type": "code",
   "execution_count": 1,
   "metadata": {
    "collapsed": false
   },
   "outputs": [
    {
     "name": "stdout",
     "output_type": "stream",
     "text": [
      "Finished\n",
      "(784, 1)\n"
     ]
    }
   ],
   "source": [
    "from mnist import mnist\n",
    "training_set, test_set = mnist.load()\n",
    "print(\"Finished\")\n",
    "\n",
    "x, y = test_set[0]\n",
    "print(x.shape)"
   ]
  },
  {
   "cell_type": "code",
   "execution_count": null,
   "metadata": {
    "collapsed": true
   },
   "outputs": [],
   "source": []
  },
  {
   "cell_type": "code",
   "execution_count": null,
   "metadata": {
    "collapsed": true
   },
   "outputs": [],
   "source": []
  }
 ],
 "metadata": {
  "celltoolbar": "Raw Cell Format",
  "kernelspec": {
   "display_name": "Python 3",
   "language": "python",
   "name": "python3"
  },
  "language_info": {
   "codemirror_mode": {
    "name": "ipython",
    "version": 3
   },
   "file_extension": ".py",
   "mimetype": "text/x-python",
   "name": "python",
   "nbconvert_exporter": "python",
   "pygments_lexer": "ipython3",
   "version": "3.6.0"
  }
 },
 "nbformat": 4,
 "nbformat_minor": 2
}
