{
 "cells": [
  {
   "cell_type": "code",
   "execution_count": 2,
   "metadata": {
    "collapsed": false
   },
   "outputs": [
    {
     "ename": "SyntaxError",
     "evalue": "Missing parentheses in call to 'print' (network.py, line 19)",
     "output_type": "error",
     "traceback": [
      "\u001b[0;36m  File \u001b[0;32m\"C:\\Users\\Franj\\projects\\neural_network\\network.py\"\u001b[0;36m, line \u001b[0;32m19\u001b[0m\n\u001b[0;31m    print x.shape\u001b[0m\n\u001b[0m          ^\u001b[0m\n\u001b[0;31mSyntaxError\u001b[0m\u001b[0;31m:\u001b[0m Missing parentheses in call to 'print'\n"
     ]
    }
   ],
   "source": [
    "# %load __main__.py\n",
    "from numpy import random\n",
    "\n",
    "from network import network\n",
    "from mnist import mnist as data\n",
    "\n",
    "# Loading training and test sets\n",
    "training_set, test_set = data.load()\n",
    "print(\"Successfully loaded data. Initializing network...\")\n",
    "\n",
    "# Creating network\n",
    "hidden_layers = [30]\n",
    "x, y = training_set[0]\n",
    "input_size = x.shape[0]\n",
    "output_size = y.shape[0]\n",
    "net = network(input_size, output_size, hidden_layers)\n",
    "print(\"Successfully initialized network. Training network...\")\n",
    "\n",
    "# Training variables\n",
    "learning_rate = 1\n",
    "set_size = 500\n",
    "num_cycles = 1000\n",
    "\n",
    "for i in range(num_cycles):\n",
    "\trandom.shuffle(training_set)\n",
    "\tnet.train(training_set[0:set_size], learning_rate)\n",
    "print(\"Successfully trained network. Validating network...\")\n",
    "\n",
    "\n",
    "test_outputs = []\n",
    "for x, y in test_set:\n",
    "\ttest_outputs.append(net.forwardpass(x))\n",
    "\n",
    "performance = data.validate(test_set, test_outputs)\n",
    "print(performance)"
   ]
  },
  {
   "cell_type": "code",
   "execution_count": null,
   "metadata": {
    "collapsed": true
   },
   "outputs": [],
   "source": []
  }
 ],
 "metadata": {
  "celltoolbar": "Raw Cell Format",
  "kernelspec": {
   "display_name": "Python 3",
   "language": "python",
   "name": "python3"
  }
 },
 "nbformat": 4,
 "nbformat_minor": 2
}
