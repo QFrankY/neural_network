{
 "cells": [
  {
   "cell_type": "code",
   "execution_count": null,
   "metadata": {
    "collapsed": false
   },
   "outputs": [
    {
     "name": "stdout",
     "output_type": "stream",
     "text": [
      "Successfully loaded data. Initializing network...\n",
      "Successfully initialized network. Training network...\n"
     ]
    }
   ],
   "source": [
    "# %load __main__.py\n",
    "from numpy import random\n",
    "\n",
    "from network import network\n",
    "from mnist import mnist as data\n",
    "\n",
    "# Loading training and test sets\n",
    "training_set, test_set = data.load()\n",
    "print(\"Successfully loaded data. Initializing network...\")\n",
    "\n",
    "# Creating network\n",
    "hidden_layers = [3]\n",
    "x, y = training_set[0]\n",
    "input_size = x.shape[0]\n",
    "output_size = y.shape[0]\n",
    "\n",
    "net = network(input_size, output_size, hidden_layers)\n",
    "print(\"Successfully initialized network. Training network...\")\n",
    "\n",
    "# Training variables\n",
    "learning_rate = 1\n",
    "set_size = 150\n",
    "num_cycles = 30\n",
    "\n",
    "net.train(training_set, learning_rate, set_size, num_cycles)\n",
    "print(\"Successfully trained network. Validating network...\")\n",
    "\n",
    "test_outputs=[]\n",
    "\n",
    "for i in range(len(test_set)):\n",
    "    x, y = test_set[i]\n",
    "    test_outputs.append(net.forwardpass(x))\n",
    "    \n",
    "performance = data.validate(test_set, test_outputs) * 100\n",
    "print(performance)"
   ]
  },
  {
   "cell_type": "code",
   "execution_count": null,
   "metadata": {
    "collapsed": true
   },
   "outputs": [],
   "source": []
  }
 ],
 "metadata": {
  "celltoolbar": "Raw Cell Format",
  "kernelspec": {
   "display_name": "Python 3",
   "language": "python",
   "name": "python3"
  },
  "language_info": {
   "codemirror_mode": {
    "name": "ipython",
    "version": 3
   },
   "file_extension": ".py",
   "mimetype": "text/x-python",
   "name": "python",
   "nbconvert_exporter": "python",
   "pygments_lexer": "ipython3",
   "version": "3.6.0"
  }
 },
 "nbformat": 4,
 "nbformat_minor": 2
}
