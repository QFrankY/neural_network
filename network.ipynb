{
 "cells": [
  {
   "cell_type": "code",
   "execution_count": 5,
   "metadata": {
    "collapsed": false
   },
   "outputs": [
    {
     "name": "stdout",
     "output_type": "stream",
     "text": [
      "Successfully loaded data. Initializing network...\n",
      "Successfully initialized network. Training network...\n",
      "Successfully trained network. Validating network...\n",
      "[[  9.99305191e-01]\n",
      " [  1.67366203e-10]\n",
      " [  3.55254350e-04]\n",
      " [  1.58493887e-04]\n",
      " [  1.81060546e-04]]\n",
      "[[  3.83146622e-14]\n",
      " [  9.99500484e-01]\n",
      " [  1.99376936e-04]\n",
      " [  2.16477794e-04]\n",
      " [  8.36614313e-05]]\n",
      "[[  1.95696105e-04]\n",
      " [  8.61571148e-05]\n",
      " [  9.99718128e-01]\n",
      " [  5.02141498e-10]\n",
      " [  1.81203848e-08]]\n",
      "[[  9.88299364e-05]\n",
      " [  6.07522817e-05]\n",
      " [  2.91180287e-10]\n",
      " [  9.99802444e-01]\n",
      " [  3.79735244e-05]]\n",
      "[[  2.53003296e-04]\n",
      " [  1.63327085e-04]\n",
      " [  5.56829566e-08]\n",
      " [  9.16447036e-05]\n",
      " [  9.99491969e-01]]\n",
      "100.0\n"
     ]
    }
   ],
   "source": [
    "# %load __main__.py\n",
    "from numpy import random\n",
    "\n",
    "from network import network\n",
    "from encoder import encoder as data\n",
    "\n",
    "# Loading training and test sets\n",
    "training_set, test_set = data.load()\n",
    "print(\"Successfully loaded data. Initializing network...\")\n",
    "\n",
    "# Creating network\n",
    "hidden_layers = [3]\n",
    "x, y = training_set[0]\n",
    "input_size = x.shape[0]\n",
    "output_size = y.shape[0]\n",
    "\n",
    "net = network(input_size, output_size, hidden_layers)\n",
    "print(\"Successfully initialized network. Training network...\")\n",
    "\n",
    "# Training variables\n",
    "learning_rate = 1\n",
    "set_size = 1\n",
    "num_cycles = 10000\n",
    "\n",
    "net.train(training_set, learning_rate, set_size, num_cycles)\n",
    "print(\"Successfully trained network. Validating network...\")\n",
    "\n",
    "test_outputs=[]\n",
    "\n",
    "for i in range(len(test_set)):\n",
    "    x, y = test_set[i]\n",
    "    test_outputs.append(net.forwardpass(x))\n",
    "    print(net.forwardpass(x, softmax=True))\n",
    "    \n",
    "performance = data.validate(test_set, test_outputs) * 100\n",
    "print(performance)"
   ]
  },
  {
   "cell_type": "code",
   "execution_count": null,
   "metadata": {
    "collapsed": true
   },
   "outputs": [],
   "source": []
  }
 ],
 "metadata": {
  "celltoolbar": "Raw Cell Format",
  "kernelspec": {
   "display_name": "Python 3",
   "language": "python",
   "name": "python3"
  },
  "language_info": {
   "codemirror_mode": {
    "name": "ipython",
    "version": 3
   },
   "file_extension": ".py",
   "mimetype": "text/x-python",
   "name": "python",
   "nbconvert_exporter": "python",
   "pygments_lexer": "ipython3",
   "version": "3.6.0"
  }
 },
 "nbformat": 4,
 "nbformat_minor": 2
}
